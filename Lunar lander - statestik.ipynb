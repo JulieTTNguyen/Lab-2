{
 "cells": [
  {
   "cell_type": "code",
   "execution_count": 25,
   "metadata": {},
   "outputs": [],
   "source": [
    "# import the Pandas library\n",
    "import pandas as pd \n",
    "import numpy as np\n",
    "import scipy.stats as stats"
   ]
  },
  {
   "cell_type": "code",
   "execution_count": 70,
   "metadata": {},
   "outputs": [
    {
     "name": "stdout",
     "output_type": "stream",
     "text": [
      "    Test#  Success?  Fuel\n",
      "0       1      True  56.0\n",
      "1       2      True  57.0\n",
      "2       3      True  57.2\n",
      "3       4      True  56.2\n",
      "4       5      True  55.6\n",
      "5       6     False  57.0\n",
      "6       7      True  56.2\n",
      "7       8      True  56.2\n",
      "8       9      True  56.4\n",
      "9      10      True  55.6\n",
      "10     11      True  55.8\n",
      "11     12      True  55.4\n",
      "12     13      True  56.4\n",
      "13     14      True  56.6\n",
      "14     15      True  55.2\n",
      "15     16      True  55.0\n",
      "16     17      True  56.8\n",
      "17     18      True  55.4\n",
      "18     19      True  55.2\n",
      "19     20      True  56.2\n",
      "20     21     False  56.4\n",
      "21     22     False  55.6\n",
      "22     23      True  56.8\n",
      "23     24      True  55.6\n",
      "24     25      True  56.0\n",
      "25     26      True  56.8\n",
      "26     27     False  55.4\n",
      "27     28      True  57.2\n",
      "28     29      True  55.4\n",
      "29     30      True  55.6\n",
      "30     31     False  55.4\n",
      "31     32     False  56.2\n",
      "32     33      True  55.2\n",
      "33     34      True  55.2\n",
      "34     35      True  56.0\n",
      "35     36      True  56.0\n",
      "36     37      True  56.4\n",
      "37     38      True  56.2\n",
      "38     39      True  56.6\n",
      "39     40      True  55.4\n",
      "40     41      True  55.8\n",
      "41     42     False  57.0\n",
      "42     43      True  56.4\n",
      "43     44      True  56.4\n",
      "44     45      True  57.2\n",
      "45     46     False  55.4\n",
      "46     47     False  56.8\n",
      "47     48      True  56.0\n",
      "48     49      True  55.2\n",
      "49     50      True  55.4\n"
     ]
    }
   ],
   "source": [
    "#Overfører data fra excel-filen:\n",
    "csv_data = pd.read_csv(\"iterative solution data.csv\", sep=',')\n",
    "\n",
    "#hvis man gerne vil printe alle rækker\n",
    "pd.set_option('display.max_rows', None)\n",
    "print(csv_data)"
   ]
  },
  {
   "cell_type": "code",
   "execution_count": 77,
   "metadata": {},
   "outputs": [
    {
     "name": "stdout",
     "output_type": "stream",
     "text": [
      "Liste med alle værdier for fuel:\n",
      "[55.999999999999446, 56.999999999999446, 57.19999999999945, 56.19999999999944, 55.59999999999945, 56.999999999999446, 56.19999999999945, 56.19999999999945, 56.39999999999944, 55.59999999999944, 55.79999999999944, 55.39999999999944, 56.39999999999945, 56.59999999999945, 55.19999999999944, 54.999999999999446, 56.79999999999945, 55.39999999999944, 55.19999999999945, 56.19999999999945, 56.39999999999945, 55.59999999999945, 56.79999999999945, 55.59999999999945, 55.999999999999446, 56.79999999999945, 55.39999999999944, 57.19999999999945, 55.39999999999944, 55.59999999999944, 55.39999999999944, 56.19999999999944, 55.19999999999944, 55.19999999999944, 55.999999999999446, 55.999999999999446, 56.39999999999945, 56.19999999999945, 56.59999999999945, 55.39999999999944, 55.79999999999944, 56.999999999999446, 56.39999999999945, 56.39999999999945, 57.19999999999945, 55.39999999999944, 56.79999999999945, 55.999999999999446, 55.19999999999944, 55.39999999999944]\n",
      "Middelværdi for alle værdier af fuel: 56.04799999999945\n",
      "\n",
      "Liste med alle værdier for fuel ved success:\n",
      "[55.999999999999446, 56.999999999999446, 57.19999999999945, 56.19999999999944, 55.59999999999945, 56.19999999999945, 56.19999999999945, 56.39999999999944, 55.59999999999944, 55.79999999999944, 55.39999999999944, 56.39999999999945, 56.59999999999945, 55.19999999999944, 54.999999999999446, 56.79999999999945, 55.39999999999944, 55.19999999999945, 56.19999999999945, 56.79999999999945, 55.59999999999945, 55.999999999999446, 56.79999999999945, 57.19999999999945, 55.39999999999944, 55.59999999999944, 55.19999999999944, 55.19999999999944, 55.999999999999446, 55.999999999999446, 56.39999999999945, 56.19999999999945, 56.59999999999945, 55.39999999999944, 55.79999999999944, 56.39999999999945, 56.39999999999945, 57.19999999999945, 55.999999999999446, 55.19999999999944, 55.39999999999944]\n",
      "Middelværdi for fuel ved success: 56.02926829268239\n"
     ]
    }
   ],
   "source": [
    "#Trækker data fra fuel ud i sin egen liste, så der kan beregnes på datene.\n",
    "fuel_data = csv_data['Fuel'].tolist()\n",
    "\n",
    "print(\"Liste med alle værdier for fuel:\")\n",
    "print(fuel_data)\n",
    "\n",
    "# Beregner middelværdien for fuel for alle forsøg:\n",
    "mean_fuel = np.mean(fuel_data)\n",
    "print(\"Middelværdi for alle værdier af fuel:\", mean_fuel)\n",
    "print()\n",
    "\n",
    "\n",
    "# Beregner middelværdien for fuel, når AI vinder\n",
    "fuel_list_win = csv_data[csv_data['Success?'] == True]['Fuel'].tolist()\n",
    "print(\"Liste med alle værdier for fuel ved success:\")\n",
    "print(fuel_list_win)\n",
    "\n",
    "mean_fuel_win = np.mean(fuel_list_win)\n",
    "print(\"Middelværdi for fuel ved success:\", mean_fuel_win)\n"
   ]
  },
  {
   "cell_type": "code",
   "execution_count": 66,
   "metadata": {},
   "outputs": [
    {
     "name": "stdout",
     "output_type": "stream",
     "text": [
      "Konfidensinterval for varians: [0.367;1.092]\n",
      "Konfidensinterval for standardafvigelsen: [0.606;1.045]\n"
     ]
    }
   ],
   "source": [
    "#Bestemmer 95%-konfidensintervaller for varians og spredning \n",
    "# for brændstof ved sucess\n",
    "var_fuel = np.var(fuel_list_win)\n",
    "\n",
    "#alpha = 5%\n",
    "\n",
    "kvartil_lower = stats.chi2.ppf(0.975, df= len(fuel_list_win)-1)\n",
    "kvartil_upper = stats.chi2.ppf(0.025, df= len(fuel_list_win)-1)\n",
    "\n",
    "CI_var_lower = ((len(fuel_list_win)-1)*(var_fuel))/kvartil_lower\n",
    "CI_var_upper = ((len(fuel_data)-1)*(var_fuel))/kvartil_upper\n",
    "\n",
    "print(f\"Konfidensinterval for varians: [{round(CI_var_lower,3)};{round(CI_var_upper,3)}]\")\n",
    "\n",
    "\n",
    "# konfidensinterval for standardafvigelsen\n",
    "CI_std_lower = np.sqrt(CI_var_lower)\n",
    "CI_std_upper = np.sqrt(CI_var_upper)\n",
    "\n",
    "print(f\"Konfidensinterval for standardafvigelsen: [{round(CI_std_lower, 3)};{round(CI_std_upper,3)}]\")\n"
   ]
  },
  {
   "cell_type": "code",
   "execution_count": 67,
   "metadata": {},
   "outputs": [
    {
     "name": "stdout",
     "output_type": "stream",
     "text": [
      "Antal wins: 41\n",
      "Winrate 82.0 %\n"
     ]
    }
   ],
   "source": [
    "# Beregner, hvor mange gange AI vinder spillet\n",
    "wins = csv_data['Success?'].value_counts()[True]\n",
    "print(\"Antal wins:\", wins)\n",
    "\n",
    "# Beregner winrate\n",
    "winrate = wins/len(csv_data['Success?'])*100\n",
    "print(\"Winrate\", winrate, \"%\")"
   ]
  }
 ],
 "metadata": {
  "kernelspec": {
   "display_name": "base",
   "language": "python",
   "name": "python3"
  },
  "language_info": {
   "codemirror_mode": {
    "name": "ipython",
    "version": 3
   },
   "file_extension": ".py",
   "mimetype": "text/x-python",
   "name": "python",
   "nbconvert_exporter": "python",
   "pygments_lexer": "ipython3",
   "version": "3.11.9"
  }
 },
 "nbformat": 4,
 "nbformat_minor": 2
}
