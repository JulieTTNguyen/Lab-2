{
 "cells": [
  {
   "cell_type": "code",
   "execution_count": 10,
   "metadata": {},
   "outputs": [],
   "source": [
    "# import the Pandas library\n",
    "import pandas as pd \n",
    "import numpy as np\n",
    "import scipy.stats as stats"
   ]
  },
  {
   "cell_type": "code",
   "execution_count": 3,
   "metadata": {},
   "outputs": [
    {
     "name": "stdout",
     "output_type": "stream",
     "text": [
      "    Test#  Success?  Fuel\n",
      "0       1         0    73\n",
      "1       1         0    65\n",
      "2       1         0    72\n",
      "3       0         1    77\n",
      "4       0         1    75\n",
      "5       0         1    62\n",
      "6       0         1    72\n",
      "7       0         1    63\n",
      "8       1         0    68\n",
      "9       1         0    42\n",
      "10      0         1    66\n",
      "11      0         1    69\n",
      "12      0         1    63\n",
      "13      1         0    62\n",
      "14      1         0    67\n",
      "15      1         0    65\n",
      "16      1         0    59\n",
      "17      0         1    37\n",
      "18      0         1    59\n",
      "19      1         0    46\n",
      "20      1         0    26\n",
      "21      1         0    72\n",
      "22      0         1    58\n",
      "23      1         0    63\n",
      "24      0         1    72\n",
      "25      0         1    62\n",
      "26      1         0    55\n",
      "27      1         0    51\n",
      "28      1         0    64\n",
      "29      1         0    70\n",
      "30      1         0     2\n",
      "31      0         1    60\n",
      "32      1         0    62\n",
      "33      1         0    60\n",
      "34      0         1    68\n",
      "35      1         0    65\n",
      "36      1         0    71\n",
      "37      0         1    66\n",
      "38      1         0    64\n",
      "39      0         1    69\n",
      "40      1         0    70\n",
      "41      1         0    74\n",
      "42      1         0    67\n",
      "43      0         1    66\n",
      "44      0         1    76\n",
      "45      0         1    56\n",
      "46      1         0    60\n",
      "47      0         1    56\n",
      "48      1         0    51\n",
      "49      1         0    64\n"
     ]
    }
   ],
   "source": [
    "#Overfører data fra excel-filen:\n",
    "csv_data = pd.read_csv(\"mennesker.csv\", sep=';')\n",
    "\n",
    "#hvis man gerne vil printe alle rækker\n",
    "pd.set_option('display.max_rows', None)\n",
    "print(csv_data)"
   ]
  },
  {
   "cell_type": "code",
   "execution_count": 17,
   "metadata": {},
   "outputs": [
    {
     "name": "stdout",
     "output_type": "stream",
     "text": [
      "Liste med alle værdier for fuel:\n",
      "[73, 65, 72, 77, 75, 62, 72, 63, 68, 42, 66, 69, 63, 62, 67, 65, 59, 37, 59, 46, 26, 72, 58, 63, 72, 62, 55, 51, 64, 70, 2, 60, 62, 60, 68, 65, 71, 66, 64, 69, 70, 74, 67, 66, 76, 56, 60, 56, 51, 64]\n",
      "Middelværdi for alle værdier af fuel: 61.64\n",
      "\n",
      "Liste med alle værdier for fuel ved success:\n",
      "[77, 75, 62, 72, 63, 66, 69, 63, 37, 59, 58, 72, 62, 60, 68, 66, 69, 66, 76, 56, 56]\n",
      "Middelværdi for fuel ved success: 64.38095238095238\n"
     ]
    }
   ],
   "source": [
    "#Trækker data fra fuel ud i sin egen liste, så der kan beregnes på datene.\n",
    "fuel_data = csv_data['Fuel'].tolist()\n",
    "\n",
    "print(\"Liste med alle værdier for fuel:\")\n",
    "print(fuel_data)\n",
    "\n",
    "# Beregner middelværdien for fuel for alle forsøg:\n",
    "mean_fuel = np.mean(fuel_data)\n",
    "print(\"Middelværdi for alle værdier af fuel:\", mean_fuel)\n",
    "print()\n",
    "\n",
    "\n",
    "# Beregner middelværdien for fuel, når AI vinder\n",
    "fuel_list_win = csv_data[csv_data['Success?'] == 1]['Fuel'].tolist()\n",
    "print(\"Liste med alle værdier for fuel ved success:\")\n",
    "print(fuel_list_win)\n",
    "\n",
    "mean_fuel_win = np.mean(fuel_list_win)\n",
    "print(\"Middelværdi for fuel ved success:\", mean_fuel_win)\n"
   ]
  },
  {
   "cell_type": "code",
   "execution_count": 12,
   "metadata": {},
   "outputs": [
    {
     "name": "stdout",
     "output_type": "stream",
     "text": [
      "Konfidensinterval for varians: [44.065;384.629]\n",
      "Konfidensinterval for standardafvigelsen: [6.638;19.612]\n"
     ]
    }
   ],
   "source": [
    "#Bestemmer 95%-konfidensintervaller for varians og spredning \n",
    "# for brændstof ved sucess\n",
    "var_fuel = np.var(fuel_list_win)\n",
    "\n",
    "#alpha = 5%\n",
    "\n",
    "kvartil_lower = stats.chi2.ppf(0.975, df= len(fuel_list_win)-1)\n",
    "kvartil_upper = stats.chi2.ppf(0.025, df= len(fuel_list_win)-1)\n",
    "\n",
    "CI_var_lower = ((len(fuel_list_win)-1)*(var_fuel))/kvartil_lower\n",
    "CI_var_upper = ((len(fuel_data)-1)*(var_fuel))/kvartil_upper\n",
    "\n",
    "print(f\"Konfidensinterval for varians: [{round(CI_var_lower,3)};{round(CI_var_upper,3)}]\")\n",
    "\n",
    "\n",
    "# konfidensinterval for standardafvigelsen\n",
    "CI_std_lower = np.sqrt(CI_var_lower)\n",
    "CI_std_upper = np.sqrt(CI_var_upper)\n",
    "\n",
    "print(f\"Konfidensinterval for standardafvigelsen: [{round(CI_std_lower, 3)};{round(CI_std_upper,3)}]\")\n"
   ]
  },
  {
   "cell_type": "code",
   "execution_count": 13,
   "metadata": {},
   "outputs": [
    {
     "name": "stdout",
     "output_type": "stream",
     "text": [
      "Antal wins: 21\n",
      "Winrate 42.0 %\n"
     ]
    }
   ],
   "source": [
    "# Beregner, hvor mange gange AI vinder spillet\n",
    "wins = csv_data['Success?'].value_counts()[1]\n",
    "print(\"Antal wins:\", wins)\n",
    "\n",
    "# Beregner winrate\n",
    "winrate = wins/len(csv_data['Success?'])*100\n",
    "print(\"Winrate\", winrate, \"%\")"
   ]
  }
 ],
 "metadata": {
  "kernelspec": {
   "display_name": "base",
   "language": "python",
   "name": "python3"
  },
  "language_info": {
   "codemirror_mode": {
    "name": "ipython",
    "version": 3
   },
   "file_extension": ".py",
   "mimetype": "text/x-python",
   "name": "python",
   "nbconvert_exporter": "python",
   "pygments_lexer": "ipython3",
   "version": "3.11.9"
  }
 },
 "nbformat": 4,
 "nbformat_minor": 2
}
